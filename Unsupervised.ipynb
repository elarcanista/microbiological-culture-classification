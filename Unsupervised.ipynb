{
 "cells": [
  {
   "cell_type": "markdown",
   "source": [
    "## Preliminars"
   ],
   "metadata": {}
  },
  {
   "cell_type": "code",
   "execution_count": null,
   "source": [
    "import pandas as pd\n",
    "from pandas import DataFrame\n",
    "import matplotlib.pyplot as plt\n",
    "from matplotlib.lines import Line2D\n",
    "from mpl_toolkits.mplot3d import Axes3D\n",
    "import numpy as np\n",
    "import random\n",
    "import colorsys\n",
    "from functools import partial\n",
    "\n",
    "plt.rcParams[\"figure.figsize\"] = (10,10)\n",
    "\n",
    "filename = 'Iris.csv'\n",
    "column_category = 'Species'\n",
    "columns_plot = ('SepalLengthCm', 'SepalWidthCm', 'PetalLengthCm')\n",
    "sample_proportions = {'Train': 0.6, 'Validation': 0.2, 'Test': 0.2}\n",
    "k = 3\n",
    "data = pd.read_csv(filename, index_col=0)\n",
    "name_to_index = {name: i for i, name in enumerate(data.iloc[:, -1].unique())}\n",
    "index_to_name = {i: name for name, i in name_to_index.items()}\n",
    "data.iloc[:, -1] = \\\n",
    "    data.iloc[:, -1].apply(lambda x: name_to_index[x])\n"
   ],
   "outputs": [],
   "metadata": {}
  },
  {
   "cell_type": "markdown",
   "source": [
    "## Plotting"
   ],
   "metadata": {}
  },
  {
   "cell_type": "code",
   "execution_count": null,
   "source": [
    "def get_color(N, n):\n",
    "    return colorsys.hsv_to_rgb(n/N, 0.75, 1)\n",
    "\n",
    "def plot_clusters(data, index_to_name):\n",
    "    fig, axs = plt.subplots(\n",
    "        data.shape[1]-1, data.shape[1]-1, sharex='col', sharey='row')\n",
    "\n",
    "    get_colorN = lambda x: get_color(len(index_to_name), x)\n",
    "    colors = data.iloc[:, -1].apply(get_colorN)\n",
    "\n",
    "    for r, r_name in enumerate(data.columns[:-1]):\n",
    "        y_data = data.iloc[:, r]\n",
    "        for c, c_name in enumerate(data.columns[:-1]):\n",
    "            if r == c:\n",
    "                axs[r, c].text(0.5, 0.5, r_name,\n",
    "                                fontweight='bold',\n",
    "                                horizontalalignment='center',\n",
    "                                verticalalignment='center',\n",
    "                                transform=axs[r, c].transAxes)\n",
    "            else:\n",
    "                axs[r, c].scatter(data.iloc[:, c], y_data, c=colors)\n",
    "\n",
    "    legend_elements = [Line2D([0], [0], color='w', marker='s', markersize=12,\n",
    "                              markerfacecolor=get_colorN(i), label=index_to_name[i])\n",
    "                       for i in range(len(index_to_name))]\n",
    "    fig.legend(handles=legend_elements, loc='center')\n"
   ],
   "outputs": [],
   "metadata": {}
  },
  {
   "cell_type": "markdown",
   "source": [
    "## Sampling"
   ],
   "metadata": {}
  },
  {
   "cell_type": "code",
   "execution_count": null,
   "source": [
    "def sampling_uniform(data, sample_proportions):\n",
    "    assert sum(sample_proportions.values()) == 1, sum(sample_proportions.values())\n",
    "\n",
    "    shuffled_data = data.sample(frac=1)\n",
    "    slice_low = 0\n",
    "    samples = {}\n",
    "    for sample, proportion in sample_proportions.items():\n",
    "        slice_high = slice_low + proportion\n",
    "        samples[sample] = shuffled_data.iloc[int(len(shuffled_data) * slice_low) : int(len(shuffled_data) * slice_high), :]\n",
    "        slice_low = slice_high\n",
    "\n",
    "    return samples"
   ],
   "outputs": [],
   "metadata": {}
  },
  {
   "cell_type": "markdown",
   "source": [
    "## Distances"
   ],
   "metadata": {}
  },
  {
   "cell_type": "code",
   "execution_count": null,
   "source": [
    "def dist_euclidean2(p1, p2):\n",
    "    d = p1 - p2\n",
    "    return d.dot(d)\n",
    "\n",
    "def dist_manhattan(p1, p2):\n",
    "    return abs(p1 - p2).sum()\n",
    "\n",
    "# precision matrix is the inverse of the covariance matrix\n",
    "def dist_mahalanobis2(precision, p1, p2):\n",
    "    d = p1 - p2\n",
    "    return d.transpose().dot(precision).dot(d)"
   ],
   "outputs": [],
   "metadata": {}
  },
  {
   "cell_type": "markdown",
   "source": [
    "## Clustering"
   ],
   "metadata": {}
  },
  {
   "cell_type": "code",
   "execution_count": null,
   "source": [
    "def get_centroids(points, k):\n",
    "    return [points[points['Cluster'] == cluster].mean() for cluster in range(k)]\n",
    "    \n",
    "def init_randompartition(points, k):\n",
    "    points['Cluster'] = [random.randrange(0, k) for i in range(points.shape[0])]\n",
    "    means = get_centroids(points, k)\n",
    "    return points, means\n",
    "\n",
    "def cluster_kmeans(points, dist, k):\n",
    "    points, means = init_randompartition(points, k)\n",
    "    while True:\n",
    "        clusters_new = [np.argmin(list(map(partial(dist, r), means)))\n",
    "                        for _, r in points.iterrows()]\n",
    "        points['Cluster'] = clusters_new\n",
    "        means_new = get_centroids(points, k)\n",
    "        delta = np.mean([dist(p1, p2) for p1, p2 in zip(means, means_new)])\n",
    "        assert not np.isnan(delta)\n",
    "        if(delta < 0.01):\n",
    "            return {cluster: points[points['Cluster'] == cluster].drop('Cluster', axis = 1) \n",
    "                    for cluster in range(k)}, means_new\n",
    "        means = means_new\n"
   ],
   "outputs": [],
   "metadata": {}
  },
  {
   "cell_type": "markdown",
   "source": [
    "## Run"
   ],
   "metadata": {}
  },
  {
   "cell_type": "code",
   "execution_count": null,
   "source": [
    "plot_clusters(data, index_to_name)\n",
    "sample = sampling_uniform(\n",
    "    data.drop([column_category], axis=1), sample_proportions)\n",
    "plot_clusters(sample)\n",
    "trained, centroids = cluster_kmeans(sample['Train'], dist_euclidean2, k)\n",
    "trained.rename(columns={'Cluster': 'TFR'})\n",
    "plot_clusters(trained, columns_plot)\n"
   ],
   "outputs": [],
   "metadata": {}
  }
 ],
 "metadata": {
  "orig_nbformat": 4,
  "language_info": {
   "name": "python",
   "version": "3.9.2",
   "mimetype": "text/x-python",
   "codemirror_mode": {
    "name": "ipython",
    "version": 3
   },
   "pygments_lexer": "ipython3",
   "nbconvert_exporter": "python",
   "file_extension": ".py"
  },
  "kernelspec": {
   "name": "python3",
   "display_name": "Python 3.9.2 64-bit"
  },
  "interpreter": {
   "hash": "1a74cfba15cb2a7e1711077e0bf40c4aa90b3e0e84105adac214ba76b6a8694a"
  }
 },
 "nbformat": 4,
 "nbformat_minor": 2
}